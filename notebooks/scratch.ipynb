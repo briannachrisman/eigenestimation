{
 "cells": [
  {
   "cell_type": "code",
   "execution_count": 1,
   "metadata": {},
   "outputs": [],
   "source": [
    "import einops\n",
    "import torchvision\n",
    "import torch"
   ]
  },
  {
   "cell_type": "code",
   "execution_count": 12,
   "metadata": {},
   "outputs": [],
   "source": [
    "# Import transformer tiny stories\n",
    "import torch\n",
    "# Import tiny stories model\n",
    "from transformers import AutoModelForCausalLM"
   ]
  },
  {
   "cell_type": "code",
   "execution_count": 13,
   "metadata": {},
   "outputs": [
    {
     "name": "stderr",
     "output_type": "stream",
     "text": [
      "/root/.eigenestimation/lib/python3.10/site-packages/torch/_utils.py:831: UserWarning: TypedStorage is deprecated. It will be removed in the future and UntypedStorage will be the only storage class. This should only matter to you if you are using storages directly.  To access UntypedStorage directly, use tensor.untyped_storage() instead of tensor.storage()\n",
      "  return self.fget.__get__(instance, owner)()\n"
     ]
    }
   ],
   "source": [
    "raw_transformer = AutoModelForCausalLM.from_pretrained('roneneldan/TinyStories-8M')\n"
   ]
  },
  {
   "cell_type": "code",
   "execution_count": 2,
   "metadata": {},
   "outputs": [
    {
     "name": "stderr",
     "output_type": "stream",
     "text": [
      "/root/.eigenestimation/lib/python3.10/site-packages/torchvision/models/_utils.py:208: UserWarning: The parameter 'pretrained' is deprecated since 0.13 and may be removed in the future, please use 'weights' instead.\n",
      "  warnings.warn(\n",
      "/root/.eigenestimation/lib/python3.10/site-packages/torchvision/models/_utils.py:223: UserWarning: Arguments other than a weight enum or `None` for 'weights' are deprecated since 0.13 and may be removed in the future. The current behavior is equivalent to passing `weights=MobileNet_V3_Small_Weights.IMAGENET1K_V1`. You can also use `weights=MobileNet_V3_Small_Weights.DEFAULT` to get the most up-to-date weights.\n",
      "  warnings.warn(msg)\n",
      "Downloading: \"https://download.pytorch.org/models/mobilenet_v3_small-047dcff4.pth\" to /root/.cache/torch/hub/checkpoints/mobilenet_v3_small-047dcff4.pth\n"
     ]
    },
    {
     "name": "stderr",
     "output_type": "stream",
     "text": [
      "100%|██████████| 9.83M/9.83M [00:00<00:00, 276MB/s]\n"
     ]
    }
   ],
   "source": [
    "model = torchvision.models.mobilenet_v3_small(pretrained=True)"
   ]
  },
  {
   "cell_type": "code",
   "execution_count": 16,
   "metadata": {},
   "outputs": [
    {
     "name": "stdout",
     "output_type": "stream",
     "text": [
      "'transformer.wte.weight': [50257, 256],\n",
      "'transformer.wpe.weight': [2048, 256],\n",
      "'transformer.h.0.ln_1.weight': [256],\n",
      "'transformer.h.0.ln_1.bias': [256],\n",
      "'transformer.h.0.attn.attention.k_proj.weight': [256, 256],\n",
      "'transformer.h.0.attn.attention.v_proj.weight': [256, 256],\n",
      "'transformer.h.0.attn.attention.q_proj.weight': [256, 256],\n",
      "'transformer.h.0.attn.attention.out_proj.weight': [256, 256],\n",
      "'transformer.h.0.attn.attention.out_proj.bias': [256],\n",
      "'transformer.h.0.ln_2.weight': [256],\n",
      "'transformer.h.0.ln_2.bias': [256],\n",
      "'transformer.h.0.mlp.c_fc.weight': [1024, 256],\n",
      "'transformer.h.0.mlp.c_fc.bias': [1024],\n",
      "'transformer.h.0.mlp.c_proj.weight': [256, 1024],\n",
      "'transformer.h.0.mlp.c_proj.bias': [256],\n",
      "'transformer.h.1.ln_1.weight': [256],\n",
      "'transformer.h.1.ln_1.bias': [256],\n",
      "'transformer.h.1.attn.attention.k_proj.weight': [256, 256],\n",
      "'transformer.h.1.attn.attention.v_proj.weight': [256, 256],\n",
      "'transformer.h.1.attn.attention.q_proj.weight': [256, 256],\n",
      "'transformer.h.1.attn.attention.out_proj.weight': [256, 256],\n",
      "'transformer.h.1.attn.attention.out_proj.bias': [256],\n",
      "'transformer.h.1.ln_2.weight': [256],\n",
      "'transformer.h.1.ln_2.bias': [256],\n",
      "'transformer.h.1.mlp.c_fc.weight': [1024, 256],\n",
      "'transformer.h.1.mlp.c_fc.bias': [1024],\n",
      "'transformer.h.1.mlp.c_proj.weight': [256, 1024],\n",
      "'transformer.h.1.mlp.c_proj.bias': [256],\n",
      "'transformer.h.2.ln_1.weight': [256],\n",
      "'transformer.h.2.ln_1.bias': [256],\n",
      "'transformer.h.2.attn.attention.k_proj.weight': [256, 256],\n",
      "'transformer.h.2.attn.attention.v_proj.weight': [256, 256],\n",
      "'transformer.h.2.attn.attention.q_proj.weight': [256, 256],\n",
      "'transformer.h.2.attn.attention.out_proj.weight': [256, 256],\n",
      "'transformer.h.2.attn.attention.out_proj.bias': [256],\n",
      "'transformer.h.2.ln_2.weight': [256],\n",
      "'transformer.h.2.ln_2.bias': [256],\n",
      "'transformer.h.2.mlp.c_fc.weight': [1024, 256],\n",
      "'transformer.h.2.mlp.c_fc.bias': [1024],\n",
      "'transformer.h.2.mlp.c_proj.weight': [256, 1024],\n",
      "'transformer.h.2.mlp.c_proj.bias': [256],\n",
      "'transformer.h.3.ln_1.weight': [256],\n",
      "'transformer.h.3.ln_1.bias': [256],\n",
      "'transformer.h.3.attn.attention.k_proj.weight': [256, 256],\n",
      "'transformer.h.3.attn.attention.v_proj.weight': [256, 256],\n",
      "'transformer.h.3.attn.attention.q_proj.weight': [256, 256],\n",
      "'transformer.h.3.attn.attention.out_proj.weight': [256, 256],\n",
      "'transformer.h.3.attn.attention.out_proj.bias': [256],\n",
      "'transformer.h.3.ln_2.weight': [256],\n",
      "'transformer.h.3.ln_2.bias': [256],\n",
      "'transformer.h.3.mlp.c_fc.weight': [1024, 256],\n",
      "'transformer.h.3.mlp.c_fc.bias': [1024],\n",
      "'transformer.h.3.mlp.c_proj.weight': [256, 1024],\n",
      "'transformer.h.3.mlp.c_proj.bias': [256],\n",
      "'transformer.h.4.ln_1.weight': [256],\n",
      "'transformer.h.4.ln_1.bias': [256],\n",
      "'transformer.h.4.attn.attention.k_proj.weight': [256, 256],\n",
      "'transformer.h.4.attn.attention.v_proj.weight': [256, 256],\n",
      "'transformer.h.4.attn.attention.q_proj.weight': [256, 256],\n",
      "'transformer.h.4.attn.attention.out_proj.weight': [256, 256],\n",
      "'transformer.h.4.attn.attention.out_proj.bias': [256],\n",
      "'transformer.h.4.ln_2.weight': [256],\n",
      "'transformer.h.4.ln_2.bias': [256],\n",
      "'transformer.h.4.mlp.c_fc.weight': [1024, 256],\n",
      "'transformer.h.4.mlp.c_fc.bias': [1024],\n",
      "'transformer.h.4.mlp.c_proj.weight': [256, 1024],\n",
      "'transformer.h.4.mlp.c_proj.bias': [256],\n",
      "'transformer.h.5.ln_1.weight': [256],\n",
      "'transformer.h.5.ln_1.bias': [256],\n",
      "'transformer.h.5.attn.attention.k_proj.weight': [256, 256],\n",
      "'transformer.h.5.attn.attention.v_proj.weight': [256, 256],\n",
      "'transformer.h.5.attn.attention.q_proj.weight': [256, 256],\n",
      "'transformer.h.5.attn.attention.out_proj.weight': [256, 256],\n",
      "'transformer.h.5.attn.attention.out_proj.bias': [256],\n",
      "'transformer.h.5.ln_2.weight': [256],\n",
      "'transformer.h.5.ln_2.bias': [256],\n",
      "'transformer.h.5.mlp.c_fc.weight': [1024, 256],\n",
      "'transformer.h.5.mlp.c_fc.bias': [1024],\n",
      "'transformer.h.5.mlp.c_proj.weight': [256, 1024],\n",
      "'transformer.h.5.mlp.c_proj.bias': [256],\n",
      "'transformer.h.6.ln_1.weight': [256],\n",
      "'transformer.h.6.ln_1.bias': [256],\n",
      "'transformer.h.6.attn.attention.k_proj.weight': [256, 256],\n",
      "'transformer.h.6.attn.attention.v_proj.weight': [256, 256],\n",
      "'transformer.h.6.attn.attention.q_proj.weight': [256, 256],\n",
      "'transformer.h.6.attn.attention.out_proj.weight': [256, 256],\n",
      "'transformer.h.6.attn.attention.out_proj.bias': [256],\n",
      "'transformer.h.6.ln_2.weight': [256],\n",
      "'transformer.h.6.ln_2.bias': [256],\n",
      "'transformer.h.6.mlp.c_fc.weight': [1024, 256],\n",
      "'transformer.h.6.mlp.c_fc.bias': [1024],\n",
      "'transformer.h.6.mlp.c_proj.weight': [256, 1024],\n",
      "'transformer.h.6.mlp.c_proj.bias': [256],\n",
      "'transformer.h.7.ln_1.weight': [256],\n",
      "'transformer.h.7.ln_1.bias': [256],\n",
      "'transformer.h.7.attn.attention.k_proj.weight': [256, 256],\n",
      "'transformer.h.7.attn.attention.v_proj.weight': [256, 256],\n",
      "'transformer.h.7.attn.attention.q_proj.weight': [256, 256],\n",
      "'transformer.h.7.attn.attention.out_proj.weight': [256, 256],\n",
      "'transformer.h.7.attn.attention.out_proj.bias': [256],\n",
      "'transformer.h.7.ln_2.weight': [256],\n",
      "'transformer.h.7.ln_2.bias': [256],\n",
      "'transformer.h.7.mlp.c_fc.weight': [1024, 256],\n",
      "'transformer.h.7.mlp.c_fc.bias': [1024],\n",
      "'transformer.h.7.mlp.c_proj.weight': [256, 1024],\n",
      "'transformer.h.7.mlp.c_proj.bias': [256],\n",
      "'transformer.ln_f.weight': [256],\n",
      "'transformer.ln_f.bias': [256],\n"
     ]
    }
   ],
   "source": [
    "for n,p in raw_transformer.named_parameters(): \n",
    "    print(f\"'{n}': {[i for i in p.shape]},\")\n",
    "#print(sum([p.numel() for p in model.parameters()]), 'parameters')"
   ]
  }
 ],
 "metadata": {
  "kernelspec": {
   "display_name": ".eigenestimation",
   "language": "python",
   "name": "python3"
  },
  "language_info": {
   "codemirror_mode": {
    "name": "ipython",
    "version": 3
   },
   "file_extension": ".py",
   "mimetype": "text/x-python",
   "name": "python",
   "nbconvert_exporter": "python",
   "pygments_lexer": "ipython3",
   "version": "3.10.12"
  }
 },
 "nbformat": 4,
 "nbformat_minor": 2
}
